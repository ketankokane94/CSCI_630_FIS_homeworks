{
 "cells": [
  {
   "cell_type": "code",
   "execution_count": 26,
   "metadata": {},
   "outputs": [
    {
     "data": {
      "text/plain": [
       "0.008560000000000002"
      ]
     },
     "execution_count": 26,
     "metadata": {},
     "output_type": "execute_result"
    }
   ],
   "source": [
    "import math\n",
    "\n",
    "def choose(K, i):\n",
    "    return int(math.factorial(K)/(math.factorial(i) * math.factorial(K-i)))\n",
    "\n",
    "def getError(K, error):\n",
    "    result = 0\n",
    "    majority = math.ceil((K+1)/2)\n",
    "    for i in range(majority, K + 1):\n",
    "        result += choose(K, i ) * math.pow(error,i) * math.pow(1-error, K-i)\n",
    "    return result\n",
    "\n",
    "getError(5,0.1)"
   ]
  }
 ],
 "metadata": {
  "kernelspec": {
   "display_name": "Python 3",
   "language": "python",
   "name": "python3"
  },
  "language_info": {
   "codemirror_mode": {
    "name": "ipython",
    "version": 3
   },
   "file_extension": ".py",
   "mimetype": "text/x-python",
   "name": "python",
   "nbconvert_exporter": "python",
   "pygments_lexer": "ipython3",
   "version": "3.6.3"
  }
 },
 "nbformat": 4,
 "nbformat_minor": 2
}
